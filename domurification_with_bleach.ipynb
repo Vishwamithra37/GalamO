{
 "cells": [
  {
   "cell_type": "code",
   "execution_count": 2,
   "metadata": {},
   "outputs": [
    {
     "data": {
      "text/plain": [
       "'an &lt;script&gt;evil()&lt;/script&gt; example'"
      ]
     },
     "execution_count": 2,
     "metadata": {},
     "output_type": "execute_result"
    }
   ],
   "source": [
    "import bleach\n",
    "bleach.clean('an <script>evil()</script> example')"
   ]
  },
  {
   "cell_type": "code",
   "execution_count": 21,
   "metadata": {},
   "outputs": [
    {
     "name": "stdout",
     "output_type": "stream",
     "text": [
      "\n",
      "'\n"
     ]
    }
   ],
   "source": [
    "\n",
    "import bleach\n",
    "allowed_tags = ['a']\n",
    "html_content =   # The HTML content you want to sanitize\n",
    "\n",
    "# Sanitize the HTML content\n",
    "# clean_html = bleach.clean(html_content, tags=allowed_tags)\n",
    "clean_html =bleach.clean(html_content, tags=allowed_tags, attributes={}, styles=[], strip=True)\n",
    "print(clean_html)"
   ]
  },
  {
   "cell_type": "code",
   "execution_count": null,
   "metadata": {},
   "outputs": [],
   "source": []
  }
 ],
 "metadata": {
  "kernelspec": {
   "display_name": "Python 3",
   "language": "python",
   "name": "python3"
  },
  "language_info": {
   "codemirror_mode": {
    "name": "ipython",
    "version": 3
   },
   "file_extension": ".py",
   "mimetype": "text/x-python",
   "name": "python",
   "nbconvert_exporter": "python",
   "pygments_lexer": "ipython3",
   "version": "3.9.6"
  },
  "orig_nbformat": 4
 },
 "nbformat": 4,
 "nbformat_minor": 2
}
